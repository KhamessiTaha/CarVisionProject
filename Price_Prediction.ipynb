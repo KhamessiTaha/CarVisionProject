{
  "nbformat": 4,
  "nbformat_minor": 0,
  "metadata": {
    "colab": {
      "provenance": [],
      "authorship_tag": "ABX9TyM1I1wRA5pAuE3JKNPsnMN6",
      "include_colab_link": true
    },
    "kernelspec": {
      "name": "python3",
      "display_name": "Python 3"
    },
    "language_info": {
      "name": "python"
    }
  },
  "cells": [
    {
      "cell_type": "markdown",
      "metadata": {
        "id": "view-in-github",
        "colab_type": "text"
      },
      "source": [
        "<a href=\"https://colab.research.google.com/github/KhamessiTaha/CarVisionProject/blob/main/Price_Prediction.ipynb\" target=\"_parent\"><img src=\"https://colab.research.google.com/assets/colab-badge.svg\" alt=\"Open In Colab\"/></a>"
      ]
    },
    {
      "cell_type": "code",
      "execution_count": null,
      "metadata": {
        "id": "d-yBoNtGc5gn"
      },
      "outputs": [],
      "source": [
        "from google.colab import drive\n",
        "drive.mount('/content/drive')"
      ]
    },
    {
      "cell_type": "code",
      "source": [
        "import pandas as pd\n",
        "basic_table = pd.read_csv(\"/content/drive/MyDrive/Price Prediction/Basic_table.csv\")\n",
        "price_table = pd.read_csv(\"/content/drive/MyDrive/Price Prediction/Price_table.csv\")"
      ],
      "metadata": {
        "id": "Ov6ilARkdE1z"
      },
      "execution_count": null,
      "outputs": []
    },
    {
      "cell_type": "code",
      "source": [
        "merged_data = pd.merge(basic_table, price_table, on=\"Genmodel_ID\")\n",
        "merged_data.head()"
      ],
      "metadata": {
        "id": "NYyaNTKsdEzG"
      },
      "execution_count": null,
      "outputs": []
    },
    {
      "cell_type": "code",
      "source": [
        "merged_data['Age'] = 2024 - merged_data['Year']"
      ],
      "metadata": {
        "id": "TDJTsOi0dExJ"
      },
      "execution_count": null,
      "outputs": []
    },
    {
      "cell_type": "code",
      "source": [
        "from sklearn.model_selection import train_test_split\n",
        "X = merged_data[['Age']]\n",
        "y = merged_data['Price']\n",
        "X_train, X_test, y_train, y_test = train_test_split(X, y, test_size=0.2, random_state=42)"
      ],
      "metadata": {
        "id": "0zx2frRAdEur"
      },
      "execution_count": null,
      "outputs": []
    },
    {
      "cell_type": "code",
      "source": [
        "from sklearn.linear_model import LinearRegression\n",
        "model = LinearRegression()\n",
        "model.fit(X_train, y_train)"
      ],
      "metadata": {
        "id": "MLC0QCyvdEsm"
      },
      "execution_count": null,
      "outputs": []
    },
    {
      "cell_type": "code",
      "source": [
        "from sklearn.metrics import mean_squared_error\n",
        "y_pred = model.predict(X_test)\n",
        "mse = mean_squared_error(y_test, y_pred)\n",
        "print(\"Mean Squared Error:\", mse)"
      ],
      "metadata": {
        "id": "5ZEsJqJmdEpz"
      },
      "execution_count": null,
      "outputs": []
    },
    {
      "cell_type": "code",
      "source": [
        "new_car_age = 2024 - 2015  # Example: Car manufactured in 2015\n",
        "predicted_price = model.predict([[new_car_age]])\n",
        "print(\"Predicted price for the car:\", predicted_price)"
      ],
      "metadata": {
        "id": "qouCTeVPdEnS"
      },
      "execution_count": null,
      "outputs": []
    },
    {
      "cell_type": "code",
      "source": [],
      "metadata": {
        "id": "fPlsJddjdEkh"
      },
      "execution_count": null,
      "outputs": []
    }
  ]
}